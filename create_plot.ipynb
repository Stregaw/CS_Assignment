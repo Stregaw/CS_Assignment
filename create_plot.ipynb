data = pandas.read_csv('brain_size.csv', sep=';', na_values='.')
